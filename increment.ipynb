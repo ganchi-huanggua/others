{
 "cells": [
  {
   "cell_type": "code",
   "execution_count": 1,
   "metadata": {},
   "outputs": [
    {
     "name": "stderr",
     "output_type": "stream",
     "text": [
      "c:\\anaconda\\envs\\torch-2.0\\lib\\site-packages\\tqdm\\auto.py:21: TqdmWarning: IProgress not found. Please update jupyter and ipywidgets. See https://ipywidgets.readthedocs.io/en/stable/user_install.html\n",
      "  from .autonotebook import tqdm as notebook_tqdm\n"
     ]
    }
   ],
   "source": [
    "import torch\n",
    "from torchvision import transforms, datasets\n",
    "from torch.utils.data import Dataset, DataLoader\n",
    "import numpy as np\n",
    "from torch import optim\n",
    "import timm\n",
    "import os\n",
    "from torch.nn import functional as F\n",
    "from PIL import Image\n",
    "from tqdm import tqdm"
   ]
  },
  {
   "cell_type": "code",
   "execution_count": 2,
   "metadata": {},
   "outputs": [],
   "source": [
    "model = timm.create_model('resnet34', pretrained=True, num_classes=10)"
   ]
  },
  {
   "cell_type": "code",
   "execution_count": 3,
   "metadata": {},
   "outputs": [],
   "source": [
    "class Classifier(torch.nn.Module):\n",
    "    def __init__(self, input_dim, nb_classes, *args, **kwargs) -> None:\n",
    "        super(Classifier, self).__init__(*args, **kwargs)\n",
    "        self.fc = torch.nn.Linear(input_dim, nb_classes)\n",
    "    def forward(self, x):\n",
    "        return self.fc(x)\n",
    "    "
   ]
  },
  {
   "cell_type": "code",
   "execution_count": 4,
   "metadata": {},
   "outputs": [],
   "source": [
    "class Cifar100():\n",
    "    def __init__(self):\n",
    "        self.train_trsf = transforms.Compose([\n",
    "            transforms.RandomResizedCrop(224, scale=(0.05, 1.0), ratio=(3. / 4., 4. / 3.)),\n",
    "            transforms.RandomHorizontalFlip(p=0.5),\n",
    "            transforms.ToTensor()\n",
    "        ])\n",
    "        self.test_trsf = transforms.Compose([\n",
    "            transforms.Resize(int((256 / 224) * 224), interpolation=3),\n",
    "            transforms.CenterCrop(224),\n",
    "            transforms.ToTensor()\n",
    "        ])\n",
    "        self.class_order = np.arange(100).tolist()\n",
    "        self.train_dataset = datasets.cifar.CIFAR100(\"./data\", train=True, download=True)\n",
    "        self.test_dataset = datasets.cifar.CIFAR100(\"./data\", train=False, download=True)\n",
    "        self.train_data, self.train_targets = self.train_dataset.data, np.array(\n",
    "            self.train_dataset.targets\n",
    "        )\n",
    "        self.test_data, self.test_targets = self.test_dataset.data, np.array(\n",
    "            self.test_dataset.targets\n",
    "        )"
   ]
  },
  {
   "cell_type": "code",
   "execution_count": 5,
   "metadata": {},
   "outputs": [],
   "source": [
    "class Cifar10():\n",
    "    def __init__(self):\n",
    "        self.train_trsf = transforms.Compose([\n",
    "            transforms.RandomResizedCrop(224, scale=(0.05, 1.0), ratio=(3. / 4., 4. / 3.)),\n",
    "            transforms.RandomHorizontalFlip(p=0.5),\n",
    "            transforms.ToTensor()\n",
    "        ])\n",
    "        self.test_trsf = transforms.Compose([\n",
    "            transforms.Resize(int((256 / 224) * 224), interpolation=3),\n",
    "            transforms.CenterCrop(224),\n",
    "            transforms.ToTensor()\n",
    "        ])\n",
    "        self.train_dataset = datasets.cifar.CIFAR10(\"./data\", train=True, download=True)\n",
    "        self.test_dataset = datasets.cifar.CIFAR10(\"./data\", train=False, download=True)\n",
    "        self.train_data, self.train_targets = self.train_dataset.data, np.array(\n",
    "            self.train_dataset.targets\n",
    "        )\n",
    "        self.test_data, self.test_targets = self.test_dataset.data, np.array(\n",
    "            self.test_dataset.targets\n",
    "        )"
   ]
  },
  {
   "cell_type": "code",
   "execution_count": 6,
   "metadata": {},
   "outputs": [],
   "source": [
    "class DummyDataset(Dataset):\n",
    "    def __init__(self, images, labels, trsf) -> None:\n",
    "        super().__init__()\n",
    "        self.images = images\n",
    "        self.labels = labels\n",
    "        self.trsf = trsf\n",
    "        \n",
    "    def __len__(self):\n",
    "        return len(self.images)\n",
    "    \n",
    "    def __getitem__(self, idx):\n",
    "        image = self.trsf(Image.fromarray(self.images[idx]))\n",
    "        label = self.labels[idx]\n",
    "        return idx, image, label"
   ]
  },
  {
   "cell_type": "code",
   "execution_count": 7,
   "metadata": {},
   "outputs": [
    {
     "data": {
      "text/plain": [
       "device(type='cuda', index=0)"
      ]
     },
     "execution_count": 7,
     "metadata": {},
     "output_type": "execute_result"
    }
   ],
   "source": [
    "os.environ[\"CUDA_VISIBLE_DEVICES\"] = '0'\n",
    "device = torch.device(\"cuda:0\" if torch.cuda.is_available() else \"cpu\")\n",
    "device"
   ]
  },
  {
   "cell_type": "code",
   "execution_count": 8,
   "metadata": {},
   "outputs": [
    {
     "name": "stdout",
     "output_type": "stream",
     "text": [
      "Files already downloaded and verified\n",
      "Files already downloaded and verified\n"
     ]
    }
   ],
   "source": [
    "dataset = Cifar10()\n",
    "original_train_data, original_train_target = [], []\n",
    "original_test_data, original_test_target = [], []\n",
    "for i in range(10):\n",
    "    train_index = np.where(np.logical_and(dataset.train_targets >= i, dataset.train_targets < i + 1))[0][:500]\n",
    "    test_index = np.where(np.logical_and(dataset.test_targets >= i, dataset.test_targets < i + 1))[0][:100]\n",
    "    original_train_data.append(dataset.train_data[train_index])\n",
    "    original_train_target.append(dataset.train_targets[train_index])\n",
    "    original_test_data.append(dataset.test_data[test_index])\n",
    "    original_test_target.append(dataset.test_targets[test_index])\n",
    "original_train_data, original_train_target = np.concatenate(original_train_data), np.concatenate(original_train_target)\n",
    "original_test_data, original_test_target = np.concatenate(original_test_data), np.concatenate(original_test_target)"
   ]
  },
  {
   "cell_type": "code",
   "execution_count": 9,
   "metadata": {},
   "outputs": [],
   "source": [
    "# original_backbone.eval()\n",
    "# for param in original_backbone.parameters():\n",
    "#     param.requires_grad = False\n",
    "    \n",
    "# input_dim = original_backbone.head.in_features\n",
    "# nb_classes = 10\n",
    "# classifier = Classifier(input_dim, nb_classes)\n",
    "# original_backbone.head = classifier"
   ]
  },
  {
   "cell_type": "code",
   "execution_count": 10,
   "metadata": {},
   "outputs": [],
   "source": [
    "criterion = torch.nn.CrossEntropyLoss()\n",
    "optimizer = optim.Adam(model.parameters(), lr=0.001)"
   ]
  },
  {
   "cell_type": "code",
   "execution_count": 22,
   "metadata": {},
   "outputs": [
    {
     "name": "stdout",
     "output_type": "stream",
     "text": [
      "1.0\n",
      "100\n",
      "0.8\n",
      "80\n",
      "0.6\n",
      "60\n",
      "0.3999999999999999\n",
      "40\n",
      "0.19999999999999996\n",
      "20\n"
     ]
    }
   ],
   "source": [
    "all_index = np.arange(500)\n",
    "np.random.shuffle(all_index)\n",
    "idxes = np.split(all_index, 5)\n",
    "for i in range(len(idxes)):\n",
    "    idxes[i] = np.random.choice(idxes[i], int(round(1.0 - i * 0.20, 1) * len(idxes[i])))"
   ]
  },
  {
   "cell_type": "code",
   "execution_count": 12,
   "metadata": {},
   "outputs": [
    {
     "name": "stdout",
     "output_type": "stream",
     "text": [
      "1000\n"
     ]
    },
    {
     "name": "stderr",
     "output_type": "stream",
     "text": [
      "Epoch 5/5 => Loss 1.922: 100%|██████████| 5/5 [00:32<00:00,  6.50s/it]\n"
     ]
    },
    {
     "name": "stdout",
     "output_type": "stream",
     "text": [
      "Test Accuracy: 32.40%\n",
      "800\n"
     ]
    },
    {
     "name": "stderr",
     "output_type": "stream",
     "text": [
      "Epoch 5/5 => Loss 1.725: 100%|██████████| 5/5 [00:25<00:00,  5.16s/it]\n"
     ]
    },
    {
     "name": "stdout",
     "output_type": "stream",
     "text": [
      "Test Accuracy: 39.70%\n",
      "600\n"
     ]
    },
    {
     "name": "stderr",
     "output_type": "stream",
     "text": [
      "Epoch 5/5 => Loss 1.777: 100%|██████████| 5/5 [00:19<00:00,  3.82s/it]\n"
     ]
    },
    {
     "name": "stdout",
     "output_type": "stream",
     "text": [
      "Test Accuracy: 42.10%\n",
      "390\n"
     ]
    },
    {
     "name": "stderr",
     "output_type": "stream",
     "text": [
      "Epoch 5/5 => Loss 1.800: 100%|██████████| 5/5 [00:12<00:00,  2.55s/it]\n"
     ]
    },
    {
     "name": "stdout",
     "output_type": "stream",
     "text": [
      "Test Accuracy: 38.20%\n",
      "190\n"
     ]
    },
    {
     "name": "stderr",
     "output_type": "stream",
     "text": [
      "Epoch 5/5 => Loss 1.587: 100%|██████████| 5/5 [00:06<00:00,  1.22s/it]\n"
     ]
    },
    {
     "name": "stdout",
     "output_type": "stream",
     "text": [
      "Test Accuracy: 39.80%\n"
     ]
    }
   ],
   "source": [
    "epochs = 5\n",
    "model.cuda()\n",
    "criterion.cuda()\n",
    "\n",
    "test_dataset = DummyDataset(original_test_data, original_test_target, dataset.test_trsf)\n",
    "test_dataloader = DataLoader(test_dataset, 8, True)\n",
    "\n",
    "for i in range(5):\n",
    "    train_data, train_target = [], []\n",
    "    for cls in range(10):\n",
    "        idx = np.where(np.logical_and(original_train_target >= cls,  original_train_target < cls + 1))[0]\n",
    "        cls_data, cls_target = original_train_data[idx], original_train_target[idx]\n",
    "        train_data.append(cls_data[idxes[i]])\n",
    "        train_target.append(cls_target[idxes[i]])\n",
    "\n",
    "    train_data, train_target = np.concatenate(train_data), np.concatenate(train_target)\n",
    "    train_dataset = DummyDataset(train_data, train_target, dataset.train_trsf)\n",
    "    train_dataloader = DataLoader(train_dataset, 8, True)\n",
    "    print(len(train_target))\n",
    "    \n",
    "    prog_bar = tqdm(range(epochs))\n",
    "    for _, e in enumerate(prog_bar):\n",
    "        model.train()\n",
    "        losses = 0.0\n",
    "        \n",
    "        for _, x, y in train_dataloader:\n",
    "            x, y = x.cuda(), y.cuda()\n",
    "            optimizer.zero_grad()\n",
    "            y_pred = model(x)\n",
    "            loss = criterion(y_pred, y.long())\n",
    "            loss.backward()\n",
    "            optimizer.step()\n",
    "            \n",
    "            losses += loss.item()\n",
    "            info = \"Epoch {}/{} => Loss {:.3f}\".format(\n",
    "                            e + 1,\n",
    "                            epochs,\n",
    "                            losses / len(train_dataloader),\n",
    "                        )\n",
    "        prog_bar.set_description(info)\n",
    "        \n",
    "    model.eval()\n",
    "    predictions = []  \n",
    "    ground_truths = []  \n",
    "\n",
    "    with torch.no_grad():  # 关闭梯度计算，以节省内存并加速测试过程  \n",
    "        for idx, images, labels in test_dataloader:  \n",
    "            images, labels = images.to(device), labels.to(device)\n",
    "            outputs = model(images)  # 通过模型传递输入数据并获取预测结果  \n",
    "            _, predicted = torch.max(outputs.data, 1)  # 对预测结果进行argmax操作，获取预测的类别索引  \n",
    "            predictions.extend(predicted.tolist())  # 将预测结果添加到预测列表中  \n",
    "            ground_truths.extend(labels.tolist())  # 将实际标签添加到实际标签列表中  \n",
    "    \n",
    "    # 计算准确率作为评估指标  \n",
    "    accuracy = np.mean(np.array(predictions) == np.array(ground_truths)) * 100  # 计算准确率（百分比）  \n",
    "    print('Test Accuracy: {:.2f}%'.format(accuracy))  # 打印测试准确率结果\n"
   ]
  },
  {
   "cell_type": "code",
   "execution_count": 13,
   "metadata": {},
   "outputs": [
    {
     "name": "stdout",
     "output_type": "stream",
     "text": [
      "Test Accuracy: 39.80%\n"
     ]
    }
   ],
   "source": [
    "model.eval()\n",
    "predictions = []  \n",
    "ground_truths = []  \n",
    "# test_dataset = DummyDataset(original_test_data, original_test_target, dataset.test_trsf)\n",
    "# test_dataloader = DataLoader(test_dataset, 8, True)\n",
    "with torch.no_grad():  # 关闭梯度计算，以节省内存并加速测试过程  \n",
    "    for idx, images, labels in test_dataloader:  \n",
    "        images, labels = images.to(device), labels.to(device)\n",
    "        outputs = model(images)  # 通过模型传递输入数据并获取预测结果  \n",
    "        _, predicted = torch.max(outputs.data, 1)  # 对预测结果进行argmax操作，获取预测的类别索引  \n",
    "        predictions.extend(predicted.tolist())  # 将预测结果添加到预测列表中  \n",
    "        ground_truths.extend(labels.tolist())  # 将实际标签添加到实际标签列表中  \n",
    "  \n",
    "# 计算准确率作为评估指标  \n",
    "accuracy = np.mean(np.array(predictions) == np.array(ground_truths)) * 100  # 计算准确率（百分比）  \n",
    "print('Test Accuracy: {:.2f}%'.format(accuracy))  # 打印测试准确率结果\n"
   ]
  }
 ],
 "metadata": {
  "kernelspec": {
   "display_name": "torch-2.0",
   "language": "python",
   "name": "python3"
  },
  "language_info": {
   "codemirror_mode": {
    "name": "ipython",
    "version": 3
   },
   "file_extension": ".py",
   "mimetype": "text/x-python",
   "name": "python",
   "nbconvert_exporter": "python",
   "pygments_lexer": "ipython3",
   "version": "3.9.18"
  }
 },
 "nbformat": 4,
 "nbformat_minor": 2
}
