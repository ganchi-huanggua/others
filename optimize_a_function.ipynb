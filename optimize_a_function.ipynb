{
 "cells": [
  {
   "cell_type": "code",
   "execution_count": 49,
   "metadata": {
    "pycharm": {
     "name": "#%%\n"
    }
   },
   "outputs": [],
   "source": [
    "import torch\n",
    "from matplotlib import pyplot as plt\n",
    "from mpl_toolkits.mplot3d import Axes3D\n",
    "import numpy as np"
   ]
  },
  {
   "cell_type": "code",
   "execution_count": 50,
   "metadata": {
    "pycharm": {
     "name": "#%%\n"
    }
   },
   "outputs": [],
   "source": [
    "def himmelblau(x):\n",
    "    return (x[0] ** 2 + x[1] - 11) ** 2 + (x[0] + x[1] ** 2 - 7) ** 2"
   ]
  },
  {
   "cell_type": "code",
   "execution_count": 51,
   "metadata": {
    "pycharm": {
     "name": "#%%\n"
    }
   },
   "outputs": [
    {
     "data": {
      "text/plain": [
       "((120,), (120,))"
      ]
     },
     "execution_count": 51,
     "metadata": {},
     "output_type": "execute_result"
    }
   ],
   "source": [
    "x = np.arange(-6, 6, 0.1)\n",
    "y = np.arange(-6, 6, 0.1)\n",
    "x.shape, y.shape"
   ]
  },
  {
   "cell_type": "code",
   "execution_count": 52,
   "metadata": {
    "pycharm": {
     "name": "#%%\n"
    }
   },
   "outputs": [
    {
     "data": {
      "text/plain": [
       "(array([[-6. , -5.9, -5.8, ...,  5.7,  5.8,  5.9],\n",
       "        [-6. , -5.9, -5.8, ...,  5.7,  5.8,  5.9],\n",
       "        [-6. , -5.9, -5.8, ...,  5.7,  5.8,  5.9],\n",
       "        ...,\n",
       "        [-6. , -5.9, -5.8, ...,  5.7,  5.8,  5.9],\n",
       "        [-6. , -5.9, -5.8, ...,  5.7,  5.8,  5.9],\n",
       "        [-6. , -5.9, -5.8, ...,  5.7,  5.8,  5.9]]),\n",
       " array([[-6. , -6. , -6. , ..., -6. , -6. , -6. ],\n",
       "        [-5.9, -5.9, -5.9, ..., -5.9, -5.9, -5.9],\n",
       "        [-5.8, -5.8, -5.8, ..., -5.8, -5.8, -5.8],\n",
       "        ...,\n",
       "        [ 5.7,  5.7,  5.7, ...,  5.7,  5.7,  5.7],\n",
       "        [ 5.8,  5.8,  5.8, ...,  5.8,  5.8,  5.8],\n",
       "        [ 5.9,  5.9,  5.9, ...,  5.9,  5.9,  5.9]]))"
      ]
     },
     "execution_count": 52,
     "metadata": {},
     "output_type": "execute_result"
    }
   ],
   "source": [
    "X, Y = np.meshgrid(x, y)\n",
    "X, Y"
   ]
  },
  {
   "cell_type": "code",
   "execution_count": 53,
   "metadata": {
    "pycharm": {
     "name": "#%%\n"
    }
   },
   "outputs": [
    {
     "name": "stdout",
     "output_type": "stream",
     "text": [
      "step 0: x = [0.0009999999310821295, 0.0009999999310821295], f(x) = 170.0\n",
      "step 2000: x = [2.3331806659698486, 1.9540694952011108], f(x) = 13.730916023254395\n",
      "step 4000: x = [2.9820079803466797, 2.0270984172821045], f(x) = 0.014858869835734367\n",
      "step 6000: x = [2.999983549118042, 2.0000221729278564], f(x) = 1.1074007488787174e-08\n",
      "step 8000: x = [2.9999938011169434, 2.0000083446502686], f(x) = 1.5572823031106964e-09\n",
      "step 10000: x = [2.999997854232788, 2.000002861022949], f(x) = 1.8189894035458565e-10\n",
      "step 12000: x = [2.9999992847442627, 2.0000009536743164], f(x) = 1.6370904631912708e-11\n",
      "step 14000: x = [2.999999761581421, 2.000000238418579], f(x) = 1.8189894035458565e-12\n",
      "step 16000: x = [3.0, 2.0], f(x) = 0.0\n",
      "step 18000: x = [3.0, 2.0], f(x) = 0.0\n"
     ]
    }
   ],
   "source": [
    "x = torch.tensor([0., 0.], requires_grad=True)\n",
    "optimizer = torch.optim.Adam([x], lr=1e-3)\n",
    "for step in range(20000):\n",
    "    pred = himmelblau(x)\n",
    "    optimizer.zero_grad()\n",
    "    pred.backward()  # 生成梯度信息\n",
    "    optimizer.step()  # 利用梯度信息更新参数\n",
    "    \n",
    "    if step % 2000 == 0:\n",
    "        print(\"step {}: x = {}, f(x) = {}\".format(step, x.tolist(), pred.item()))"
   ]
  },
  {
   "cell_type": "code",
   "execution_count": null,
   "metadata": {
    "pycharm": {
     "name": "#%%\n"
    }
   },
   "outputs": [],
   "source": []
  }
 ],
 "metadata": {
  "kernelspec": {
   "display_name": "torch1.12",
   "language": "python",
   "name": "python3"
  },
  "language_info": {
   "codemirror_mode": {
    "name": "ipython",
    "version": 3
   },
   "file_extension": ".py",
   "mimetype": "text/x-python",
   "name": "python",
   "nbconvert_exporter": "python",
   "pygments_lexer": "ipython3",
   "version": "3.8.13"
  }
 },
 "nbformat": 4,
 "nbformat_minor": 2
}