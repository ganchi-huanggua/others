{
 "cells": [
  {
   "cell_type": "code",
   "execution_count": 12,
   "metadata": {},
   "outputs": [
    {
     "data": {
      "text/plain": [
       "(tensor([0, 1, 2, 3, 4, 5, 6, 7, 8, 9]),\n",
       " tensor([ 5,  6, 10,  6,  6, 10,  6, 14,  9,  8]))"
      ]
     },
     "execution_count": 12,
     "metadata": {},
     "output_type": "execute_result"
    }
   ],
   "source": [
    "import torch\n",
    "data = torch.randint(0, 10, [16, 5])\n",
    "id, counts = torch.unique(data, return_counts=True, sorted=True)\n",
    "id, counts"
   ]
  },
  {
   "cell_type": "code",
   "execution_count": 5,
   "metadata": {},
   "outputs": [
    {
     "data": {
      "text/plain": [
       "torch.Size([2, 3])"
      ]
     },
     "execution_count": 5,
     "metadata": {},
     "output_type": "execute_result"
    }
   ],
   "source": [
    "data.shape"
   ]
  },
  {
   "cell_type": "code",
   "execution_count": 7,
   "metadata": {},
   "outputs": [
    {
     "data": {
      "text/plain": [
       "True"
      ]
     },
     "execution_count": 7,
     "metadata": {},
     "output_type": "execute_result"
    }
   ],
   "source": [
    "torch.cuda.is_available()"
   ]
  },
  {
   "cell_type": "code",
   "execution_count": 13,
   "metadata": {},
   "outputs": [
    {
     "data": {
      "text/plain": [
       "tensor([[1., 1.],\n",
       "        [1., 1.]])"
      ]
     },
     "execution_count": 13,
     "metadata": {},
     "output_type": "execute_result"
    }
   ],
   "source": [
    "torch.ones(2, 2)"
   ]
  },
  {
   "cell_type": "code",
   "execution_count": 22,
   "metadata": {},
   "outputs": [
    {
     "name": "stdout",
     "output_type": "stream",
     "text": [
      "tensor([[2, 3, 4],\n",
      "        [5, 6, 7]])\n",
      "tensor([[[1, 2, 3],\n",
      "         [4, 5, 6],\n",
      "         [7, 8, 9]],\n",
      "\n",
      "        [[0, 1, 2],\n",
      "         [1, 2, 3],\n",
      "         [2, 3, 4]]])\n",
      "tensor([[[2, 3, 4]],\n",
      "\n",
      "        [[5, 6, 7]]])\n",
      "tensor([[[ 2,  6, 12],\n",
      "         [ 8, 15, 24],\n",
      "         [14, 24, 36]],\n",
      "\n",
      "        [[ 0,  6, 14],\n",
      "         [ 5, 12, 21],\n",
      "         [10, 18, 28]]])\n",
      "tensor([[[ 2,  6, 12],\n",
      "         [ 8, 15, 24],\n",
      "         [14, 24, 36]],\n",
      "\n",
      "        [[ 0,  6, 14],\n",
      "         [ 5, 12, 21],\n",
      "         [10, 18, 28]]])\n"
     ]
    }
   ],
   "source": [
    "a = torch.tensor([[2, 3, 4], [5, 6, 7]])\n",
    "b = torch.tensor([[[1, 2, 3], [4 ,5, 6], [7, 8, 9]], [[0, 1, 2], [1, 2, 3], [2, 3, 4]]])\n",
    "c = torch.tensor([[[2, 3, 4], [2, 3, 4], [2, 3, 4]], [[5, 6, 7], [5, 6, 7], [5, 6, 7]]])\n",
    "print(a)\n",
    "print(b)\n",
    "print(a.unsqueeze(1))\n",
    "print(b * a.unsqueeze(1))\n",
    "print(b * c)"
   ]
  },
  {
   "cell_type": "code",
   "execution_count": null,
   "metadata": {},
   "outputs": [],
   "source": []
  }
 ],
 "metadata": {
  "kernelspec": {
   "display_name": "base",
   "language": "python",
   "name": "python3"
  },
  "language_info": {
   "codemirror_mode": {
    "name": "ipython",
    "version": 3
   },
   "file_extension": ".py",
   "mimetype": "text/x-python",
   "name": "python",
   "nbconvert_exporter": "python",
   "pygments_lexer": "ipython3",
   "version": "3.9.18"
  }
 },
 "nbformat": 4,
 "nbformat_minor": 2
}
