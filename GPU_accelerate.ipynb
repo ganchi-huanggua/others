{
 "cells": [
  {
   "cell_type": "code",
   "execution_count": null,
   "metadata": {
    "pycharm": {
     "name": "#%%\n"
    }
   },
   "outputs": [],
   "source": [
    "# nn.Relu() === F.relu()\n",
    "# 前者是模块调用，后者是函数调用\n",
    "# 前者定义在网络中，后者在forward中使用\n",
    "# 后者可以在forward中获取中间变量并进行高阶操作：x = F.relu(x)\n",
    "# 在print(net)中，只有前者的输出，没有后者的输出"
   ]
  },
  {
   "cell_type": "code",
   "execution_count": 1,
   "metadata": {
    "pycharm": {
     "name": "#%%\n"
    }
   },
   "outputs": [],
   "source": [
    "# GPU\n",
    "import torch\n",
    "import os"
   ]
  },
  {
   "cell_type": "code",
   "execution_count": 2,
   "metadata": {
    "pycharm": {
     "name": "#%%\n"
    }
   },
   "outputs": [
    {
     "name": "stdout",
     "output_type": "stream",
     "text": [
      "1\n",
      "True\n",
      "False\n",
      "True\n",
      "False\n"
     ]
    }
   ],
   "source": [
    "os.environ[\"CUDA_VISIBLE_DEVICES\"] = '0'  # 可以在终端中直接指定：python main.py CUDA_VISIBLE_DEVICES=0\n",
    "print(torch.cuda.device_count())\n",
    "device = torch.device(\"cuda:0\" if torch.cuda.is_available() else \"cpu\")  # 没有标明0时代表gpu全选，0为CUDA_VISIBLE_DEVICES中的第一个\n",
    "print(device)\n",
    "# 在使用GPU加速前，要将模型（loss也算一层 ）和数据转移至GPU\n",
    "# to方法：其中model彻底搬到了GPU上，reference就地更新，是一个inplace操作\n",
    "# 而data会产生两个tensor，分别在gpu和cpu上\n",
    "model = torch.nn.Module()\n",
    "model.to(device)\n",
    "x = torch.tensor([0, 0], dtype=torch.float)\n",
    "print(isinstance(x, torch.FloatTensor))\n",
    "x.to(device)\n",
    "print(isinstance(x, torch.cuda.FloatTensor))\n",
    "x = x.to(device)\n",
    "print(isinstance(x, torch.cuda.FloatTensor))\n",
    "x.to('cpu')\n",
    "# x = x.to('cpu')  # True\n",
    "print(isinstance(x, torch.FloatTensor))"
   ]
  }
 ],
 "metadata": {
  "kernelspec": {
   "display_name": "torch1.12",
   "language": "python",
   "name": "python3"
  },
  "language_info": {
   "codemirror_mode": {
    "name": "ipython",
    "version": 3
   },
   "file_extension": ".py",
   "mimetype": "text/x-python",
   "name": "python",
   "nbconvert_exporter": "python",
   "pygments_lexer": "ipython3",
   "version": "3.8.13"
  }
 },
 "nbformat": 4,
 "nbformat_minor": 2
}